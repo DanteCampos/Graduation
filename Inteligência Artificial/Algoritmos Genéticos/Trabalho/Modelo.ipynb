{
  "nbformat": 4,
  "nbformat_minor": 0,
  "metadata": {
    "colab": {
      "name": "Modelo.ipynb",
      "provenance": [],
      "collapsed_sections": []
    },
    "kernelspec": {
      "name": "python3",
      "display_name": "Python 3"
    },
    "language_info": {
      "name": "python"
    }
  },
  "cells": [
    {
      "cell_type": "markdown",
      "metadata": {
        "id": "mLKPZajBKe3L"
      },
      "source": [
        "**Instituto de Informática - UFG**\n",
        "\n",
        "Disciplina: Inteligência Artificial\n",
        "\n",
        "Prof. Cedric Luiz de Carvalho\n",
        "\n",
        "\n",
        "Grupo\n",
        "\n",
        "---\n",
        "\n",
        "\n",
        "Analista de dados: \n",
        "Daniel Campos da Silva\n",
        "\n",
        "---\n",
        "\n",
        "Engenheiro de Conhecimento: \n",
        "Isabela Felix França\n",
        "\n",
        "---\n"
      ]
    },
    {
      "cell_type": "markdown",
      "source": [
        "# Inferência de melhor dieta para prevenção de COVID 19"
      ],
      "metadata": {
        "id": "4FXKOymjmna4"
      }
    },
    {
      "cell_type": "markdown",
      "source": [
        "Diversas atitudes individuais e coletivas se alteraram com os últimos dois anos de pandemia. Dentre elas, está a alimentação, devido às políticas de lockdown e distanciamento social que alteraram o comportamento de comer fora e provocaram um crescimento de receitas caseiras, como no caso da popularização de receitas de pão feitos em casa em 2020.\n",
        "\n",
        "A alimentação, por sua vez, tem impacto direto na saúde de indivíduos e populações. Doenças por desnutrição são, infelizmente, comuns em países da periferia do capitalismo pelas suas altas taxas de desigualdade social que implicam num déficit alimentar em suas classes trabalhadoras. Há ainda um efeito cascata, que provoca uma baixa imunidade em corpos mal alimentados, tornando-os mais suscetíveis a enfermidades, como a COVID 19.\n",
        "\n",
        "Desejamos analisar dados de comportamento alimentar em diferentes países durante a pandemia para verificar quais desses hábitos tiveram maior relação com mortes, contaminações e recuperações da COVID 19. Após isso, propomos utilizar técnicas de inteligência artificial para replicar esses hábitos com o propósito de diminuir o impacto da COVID 19 na saúde de populações a partir de uma mudança na alimentação."
      ],
      "metadata": {
        "id": "RKie2Jo2niXJ"
      }
    },
    {
      "cell_type": "markdown",
      "source": [
        "# Dados"
      ],
      "metadata": {
        "id": "uErL5nnNtCy3"
      }
    },
    {
      "cell_type": "markdown",
      "source": [
        "Utilizamos o [COVID-19 Healthy Diet Dataset](https://www.kaggle.com/datasets/mariaren/covid19-healthy-diet-dataset) para esse problema, que compila dados de diversas fontes governamentais para agregar um banco de dados com a situação da COVID 19 e hábitos alimentares de 170 países. Vale lembrar que os dados datam de 02/06/2021.\n",
        "\n",
        "Um total de quatro tabelas compõem o banco de dados, cada uma analisando um aspecto da alimentação com relação a um grupo de alimentos. Os grupos presentes são:\n",
        "* **Alcoholic Beverages**: Bebidas alcóolicas.\n",
        "* **Animal Products**: Produtos de origem animal.\n",
        "* **Animal fats**: Gorduras de origem animal.\n",
        "* **Aquatic Products, Other**: Produtos de origem aquática (como algas).\n",
        "* **Cereals - Excluding Beer**: Cereais, com a exceção de cervejas.\n",
        "* **Eggs**: Ovos.\n",
        "* **Fish, Seafood**: Peixes e frutos do mar.\n",
        "* **Fruits - Excluding Wine**: Frutas, com a exceção de vinhos.\n",
        "* **Meat**: Carne.\n",
        "* **Miscellaneous**: Outras comidas.\n",
        "* **Milk - Excluding Butter**: Leite, com a exceção da manteiga.\n",
        "* **Offals**: Miúdos.\n",
        "* **Pulses**: Grãos.\n",
        "* **Spices**: Temperos.\n",
        "* **Starchy Roots**: Raízes amiláceas.\n",
        "* **Stimulants**: Estimulantes.\n",
        "* **Sugar Crops**: Cana-de-açúcar.\n",
        "* **Sugar & Sweeteners**: Açúcar e adoçantes.\n",
        "* **Treenuts**: Nozes.\n",
        "* **Vegetal Products**: Produtos de origem vegetal.\n",
        "* **Vegetable Oils**: Óleos vegetais.\n",
        "* **Vegetables**: Vegetais.\n",
        "\n",
        "Cada objeto do banco de dados é uma país. Abaixo agrupamos os atributos presentes em cada objeto de acordo com uma descrição geral. \n",
        "\n",
        "Distribuição de doenças na população (valores reais entre 0 e 100 em %):\n",
        "* **Obesity**: Pessoas obesas no país.\n",
        "* **Undernourished**: Pessoas desnutridas no país.\n",
        "* **Confirmed**: Casos confirmados de COVID 19 no país.\n",
        "* **Deaths**: Mortes por COVID 19 no país.\n",
        "* **Recovered**: Recuperações de COVID 19 no país.\n",
        "* **Active**: Casos ativos de COVID 19 no país.\n",
        "\n",
        "Dados Populacionais (valores inteiros não negativos):\n",
        "* **Population**: Quantidade de pessoas no país.\n",
        "* **Unit**: Unidade por dado (%).\n",
        "\n",
        "Distribuição de grupos alimentares como fontes de:\n",
        "* **Gordura**: Valores reais entre 0 e 100 representando a contribuição do grupo alimentar para o consumo de gorduras.\n",
        "* **Massa alimentar**: Valores reais entre 0 e 100 representando a contribuição do grupo alimentar para o consumo de kilos de massa alimentar.\n",
        "* **Kilocalorias**: Valores reais entre 0 e 100 representando a contribuição do grupo alimentar para o consumo de kilocalorias.\n",
        "* **Proteínas**: Valores reais entre 0 e 100 representando a contribuição do grupo alimentar para o consumo de proteínas."
      ],
      "metadata": {
        "id": "WpJaz-PftFU3"
      }
    },
    {
      "cell_type": "markdown",
      "source": [
        "# Tratamento de dados"
      ],
      "metadata": {
        "id": "QD6akgilbqDP"
      }
    },
    {
      "cell_type": "markdown",
      "source": [
        "Não há dados faltando em nenhum atributo. Entretanto, há uma redundância entre as quatro tabelas presentes no banco de dados. Para isso, unificamos todas as tabelas adicionando uma pequena descrição para cada atributo que antes representava somente um grupo alimentar numa tabela de uma fonte alimentar para \"Fonte - Grupo Alimentar\"."
      ],
      "metadata": {
        "id": "3GFaLWy7bsuO"
      }
    },
    {
      "cell_type": "markdown",
      "source": [
        "# Método de Solução por Algoritmos Genéticos\n",
        "\n",
        "\n"
      ],
      "metadata": {
        "id": "FiFZx5HwJ_P-"
      }
    },
    {
      "cell_type": "markdown",
      "source": [
        "Uma solução para o problema foi proposta através do uso de Algoritmos Genéticos.\n",
        "\n",
        "De acordo com [[1]](https://sites.icmc.usp.br/andre/research/genetic/), algoritmos genéticos são algoritmos de otimização global, baseados nos mecanismos de seleção natural e da genética. Eles empregam uma estratégia de busca paralela e estruturada, mas aleatória, que é voltada em direção ao reforço da busca de pontos de \"alta aptidão\", ou seja, pontos nos quais a função a ser minimizada (ou maximizada) tem valores relativamente baixos (ou altos).\n",
        "\n",
        "Tal solução foi obtida através da biblioteca Pyeasyga, que pode ser encontrada em [[2]](https://pythonhosted.org/pyeasyga/examples.html)."
      ],
      "metadata": {
        "id": "GGYEluX5KHOH"
      }
    },
    {
      "cell_type": "markdown",
      "source": [
        "# Implementação do método"
      ],
      "metadata": {
        "id": "VJdyzukCV8F3"
      }
    },
    {
      "cell_type": "markdown",
      "source": [
        "Devido a característica dos dados e o foco da busca ser uma dieta focada para melhores resultados perante a presença de COVID-19. Foram obtidos critérios de filtragem dos dados.\n",
        "\n",
        "Primeiramente a base foi analisada novamente. Observou-se presença de valores NAN, onde a linha que os possuíam foram excluídas. A partir daí obteve-ser informações sobre os dados, sendo estas moda, média, minímo, máximo e quartis.\n",
        "\n",
        "O fator de selação escolhido foi a quantidade de mortes e recuperação, com média de 0.039370 e 1.452356, respectivamente. Portanto, foram considerados valores de dieta onde a quantidade de mortes eram menor que a média ou a taxa de recuperação era maior que a média.\n",
        "\n",
        "Foram levados em consideração apenas o quesito proteína na dieta, onde foi analisados os valores de:\n",
        "  * Protein - Alcoholic Beverages,\n",
        "  * Protein - Animal Products,\n",
        "  * Protein - Animal fats,\n",
        "  * Protein - Aquatic Products, Other\n",
        "  * Protein - Cereals - Excluding Beer,\n",
        "  * Protein - Eggs,\n",
        "  * Protein - Fish, Seafood,\n",
        "  * Protein - Fruits - Excluding Wine,\n",
        "  * Protein - Meat\n",
        "  * Protein - Milk - Excluding Butter,\n",
        "  * Protein - Offals,\n",
        "  * Protein - Oilcrops,\n",
        "  * Protein - Pulses,\n",
        "  * Protein - Spices,\n",
        "  * Protein - Starchy Roots,\n",
        "  * Protein - Stimulants,\n",
        "  * Protein - Sugar Crops,\n",
        "  * Protein - Sugar & Sweeteners,\n",
        "  * Protein - Treenuts,\n",
        "  * Protein - Vegetal Products,\n",
        "  * Protein - Vegetable Oils,\n",
        "  * Protein - Vegetables,\n",
        "  * Protein - Miscellaneous,\n",
        "  * Protein - Obesity\n",
        "\n",
        "  Ao considerar esses fatores, obteve-se melhor indivíduo (344.93972545995643, [1, 1, 1, 1, 1, 1, 1, 1, 1, 1, 1, 1, 1, 1, 1, 1, 1, 1, 1, 1, 1, 1, 1, 1, 1, 1, 1, 1, 1, 1, 1, 1, 1, 1, 1, 1, 1, 1, 1, 0, 1, 1, 1, 0, 1, 1, 1, 0, 1, 1, 1, 1, 1, 0, 1, 1, 1, 1, 1, 1, 1, 1, 1, 1, 1, 1, 0, 1, 1, 1, 1, 1, 1, 1, 1, 1, 1, 1, 1, 1, 1, 1, 1, 1, 1, 1, 1, 1, 1, 1, 1, 1, 1, 1, 1, 1, 1, 1, 1, 0, 1, 1, 1, 1, 1, 1, 1, 1, 0, 1, 1, 1, 1, 1, 1, 1, 1, 1, 1, 1, 1, 1, 0, 1, 1, 1, 1, 1, 1, 1, 1, 0, 0, 1, 1, 1, 1, 0, 1, 1, 1, 1, 1, 0, 1, 0, 0, 1, 0, 1, 1, 1, 1, 1]).\n",
        "\n",
        "Por fins de curiosidade foi realizado teste com critério mortes igual a 0. Obteve-se melhor indivíduo com (12.991336471861455, [1, 1, 1, 1, 0, 1, 1, 0, 0, 0, 1, 0, 1, 0, 0, 0, 1, 1, 0, 1, 0, 1, 1, 0, 0, 0, 0, 0, 0, 0, 0, 0, 1, 0, 1, 1, 0, 1, 1, 1, 1, 0, 0, 1, 0, 1, 0, 1, 1, 1, 1, 0, 0, 1, 1, 0, 1, 0, 1, 0, 1, 0, 1, 0, 1, 0, 0, 0, 0, 1, 1, 0, 0, 0, 1, 1, 1, 1, 0, 0, 0, 0, 1, 0, 1, 0, 0, 1, 0, 1, 0, 0, 0, 0, 0, 0, 1, 0, 0, 0, 0, 0, 1, 1, 0, 0, 0, 0, 0, 1, 0, 1, 0, 0, 1, 1, 1, 0, 1, 0, 0, 1, 1, 1, 1, 0, 1, 0, 1, 0, 0, 1, 0, 1, 1, 1, 1, 1, 1, 1, 1, 1, 1, 0, 0, 1, 0, 1, 1, 0, 1, 1, 1, 0]).\n",
        "\n",
        "Portanto, ao analisar ambos resultados, podemos perceber que há uma grande diferença na quantidade de proteínas de cada dieta."
      ],
      "metadata": {
        "id": "Q9u3L9C8WANW"
      }
    }
  ]
}